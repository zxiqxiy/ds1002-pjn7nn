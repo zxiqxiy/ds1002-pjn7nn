{
  "cells": [
    {
      "cell_type": "markdown",
      "id": "7f2a553a",
      "metadata": {
        "id": "7f2a553a"
      },
      "source": [
        "# Metadata\n",
        "\n",
        "```\n",
        "Course:      DS 1002\n",
        "Week:        Python Basics\n",
        "Topic:       Python Variables, Indices, and Arguments\n",
        "```"
      ]
    },
    {
      "cell_type": "markdown",
      "id": "420867eb",
      "metadata": {
        "id": "420867eb"
      },
      "source": [
        "# Variables"
      ]
    },
    {
      "cell_type": "markdown",
      "id": "19101330",
      "metadata": {
        "id": "19101330"
      },
      "source": [
        "Variables allow a developer to create a name that refers to a value.  This allows the developer to refer to the value by name instead of by the value itself. Variables should be thought of as key-value pairs, keeping in mind that the \"value\" half can sometimes be quite complex.\n",
        "\n",
        "A variable can have a short name (like x and y) or a more descriptive name (age, subject_id, total_volume).\n",
        "\n",
        "Rules for Python variables:\n",
        "\n",
        "* A variable name must start with a letter or the underscore character\n",
        "* A variable name cannot start with a number\n",
        "* A variable name can only contain alpha-numeric characters and underscores (A-z, 0-9, and _ )\n",
        "* Variable names are case-sensitive (age, Age and AGE are three different variables)"
      ]
    },
    {
      "cell_type": "code",
      "execution_count": 1,
      "id": "d4bb46d9",
      "metadata": {
        "id": "d4bb46d9"
      },
      "outputs": [],
      "source": [
        "# a simple key-value pair, a variable and its value:\n",
        "\n",
        "favorite_number = 11"
      ]
    },
    {
      "cell_type": "markdown",
      "id": "31315126",
      "metadata": {
        "id": "31315126"
      },
      "source": [
        "Define and populate a variable of your own below:"
      ]
    },
    {
      "cell_type": "code",
      "execution_count": 2,
      "id": "871bad4d",
      "metadata": {
        "id": "871bad4d",
        "outputId": "e9a97b1b-5482-4560-99a6-7c94aebe65c5",
        "colab": {
          "base_uri": "https://localhost:8080/"
        }
      },
      "outputs": [
        {
          "output_type": "stream",
          "name": "stdout",
          "text": [
            "Riceball\n"
          ]
        }
      ],
      "source": [
        "cats_name=\"Riceball\"\n",
        "print(cats_name)"
      ]
    },
    {
      "cell_type": "markdown",
      "id": "f148727a",
      "metadata": {
        "id": "f148727a"
      },
      "source": [
        "**More Complex Variables**\n",
        "\n",
        "A variable can be populated with all sorts of data types: Integers, Booleans, Strings, Lists, Tuples, Dictionaries, etc."
      ]
    },
    {
      "cell_type": "code",
      "execution_count": 6,
      "id": "0cb6b853",
      "metadata": {
        "id": "0cb6b853"
      },
      "outputs": [],
      "source": [
        "fruit = [\"banana\", \"apple\", \"orange\"]\n",
        "cars=[\"Ford Pinto\", \"Toyota\", \"Bonda\"]"
      ]
    },
    {
      "cell_type": "code",
      "execution_count": 7,
      "id": "ef3589b0",
      "metadata": {
        "id": "ef3589b0",
        "outputId": "634d7d9e-9272-4129-913b-f71635d242de",
        "colab": {
          "base_uri": "https://localhost:8080/"
        }
      },
      "outputs": [
        {
          "output_type": "stream",
          "name": "stdout",
          "text": [
            "['banana', 'apple', 'orange']\n",
            "['Ford Pinto', 'Toyota', 'Bonda']\n"
          ]
        }
      ],
      "source": [
        "print(fruit)\n",
        "print(cars)"
      ]
    },
    {
      "cell_type": "markdown",
      "id": "0bd2b5a7",
      "metadata": {
        "id": "0bd2b5a7"
      },
      "source": [
        "# Indexing"
      ]
    },
    {
      "cell_type": "markdown",
      "id": "3ce8b253",
      "metadata": {
        "id": "3ce8b253"
      },
      "source": [
        "An index is a way of getting or calling the position of a value within a data structure.  For example, if we have a list of 5 values, we can use the index to call the value at position 3.  In Python, the first index is 0, so the value at position 3 would be called with index 2."
      ]
    },
    {
      "cell_type": "code",
      "execution_count": 8,
      "id": "c2435321",
      "metadata": {
        "id": "c2435321",
        "outputId": "e2edd3a3-6756-47c5-e224-36727a3c3739",
        "colab": {
          "base_uri": "https://localhost:8080/",
          "height": 35
        }
      },
      "outputs": [
        {
          "output_type": "execute_result",
          "data": {
            "text/plain": [
              "'banana'"
            ],
            "application/vnd.google.colaboratory.intrinsic+json": {
              "type": "string"
            }
          },
          "metadata": {},
          "execution_count": 8
        }
      ],
      "source": [
        "# print the first element of the fruit list\n",
        "\n",
        "fruit[0]"
      ]
    },
    {
      "cell_type": "code",
      "execution_count": 10,
      "id": "0733f33b",
      "metadata": {
        "id": "0733f33b",
        "outputId": "c5e8b89e-ea57-44c0-820a-e9e97a31f602",
        "colab": {
          "base_uri": "https://localhost:8080/"
        }
      },
      "outputs": [
        {
          "output_type": "stream",
          "name": "stdout",
          "text": [
            "1\n"
          ]
        }
      ],
      "source": [
        "# Or we can find out the index of a specific value we know in the list\n",
        "\n",
        "apple_index = fruit.index(\"apple\")\n",
        "print(apple_index)"
      ]
    },
    {
      "cell_type": "markdown",
      "id": "2f7ae123",
      "metadata": {
        "id": "2f7ae123"
      },
      "source": [
        "# Arguments"
      ]
    },
    {
      "cell_type": "markdown",
      "id": "92a9caa8",
      "metadata": {
        "id": "92a9caa8"
      },
      "source": [
        "Arguments are ways of passing specific values to a function. For example, if we have a function that takes two arguments, we might pass them in by way of two variables.\n",
        "\n",
        "Below is a simple function that ADDS any two values passed to it as arguments. It adds those values as part of a new variable, which it then prints out:"
      ]
    },
    {
      "cell_type": "code",
      "execution_count": null,
      "id": "fe148025",
      "metadata": {
        "id": "fe148025"
      },
      "outputs": [],
      "source": [
        "def add_us(firstval, secondval):\n",
        "    total = firstval + secondval\n",
        "    print(total)"
      ]
    },
    {
      "cell_type": "code",
      "execution_count": null,
      "id": "62a4d6d9",
      "metadata": {
        "id": "62a4d6d9"
      },
      "outputs": [],
      "source": [
        "firstval = 5\n",
        "secondval = 13\n",
        "\n",
        "add_us(firstval, secondval)"
      ]
    },
    {
      "cell_type": "markdown",
      "id": "7ccacba6",
      "metadata": {
        "id": "7ccacba6"
      },
      "source": [
        "Now you try populating the variables with your own values and see what happens:"
      ]
    },
    {
      "cell_type": "code",
      "execution_count": null,
      "id": "ed9cb356",
      "metadata": {
        "id": "ed9cb356"
      },
      "outputs": [],
      "source": [
        "firstval =\n",
        "secondval =\n",
        "\n",
        "add_us(firstval, secondval)"
      ]
    }
  ],
  "metadata": {
    "kernelspec": {
      "display_name": "base",
      "language": "python",
      "name": "python3"
    },
    "language_info": {
      "codemirror_mode": {
        "name": "ipython",
        "version": 3
      },
      "file_extension": ".py",
      "mimetype": "text/x-python",
      "name": "python",
      "nbconvert_exporter": "python",
      "pygments_lexer": "ipython3",
      "version": "3.9.6"
    },
    "vscode": {
      "interpreter": {
        "hash": "256476f871f41dd9f410a4535ba940f788da543573a25285757e797fedf9c871"
      }
    },
    "colab": {
      "provenance": []
    }
  },
  "nbformat": 4,
  "nbformat_minor": 5
}