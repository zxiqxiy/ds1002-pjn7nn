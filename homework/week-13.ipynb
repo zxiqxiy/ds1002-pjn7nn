{
  "nbformat": 4,
  "nbformat_minor": 0,
  "metadata": {
    "colab": {
      "provenance": [],
      "include_colab_link": true
    },
    "kernelspec": {
      "name": "ir",
      "display_name": "R"
    },
    "language_info": {
      "name": "R"
    }
  },
  "cells": [
    {
      "cell_type": "markdown",
      "metadata": {
        "id": "view-in-github",
        "colab_type": "text"
      },
      "source": [
        "<a href=\"https://colab.research.google.com/github/zxiqxiy/ds1002-pjn7nn/blob/main/homework/week-13.ipynb\" target=\"_parent\"><img src=\"https://colab.research.google.com/assets/colab-badge.svg\" alt=\"Open In Colab\"/></a>"
      ]
    },
    {
      "cell_type": "markdown",
      "source": [
        "# Homework - Week 13\n",
        "\n",
        "Complete the following blocks as specified in the directions. Run each cell to return the desired output. Save your notebook back to your GitHub repository and submit the GitHub URL to your notebook for review."
      ],
      "metadata": {
        "id": "sZruw3XQogej"
      }
    },
    {
      "cell_type": "markdown",
      "source": [
        "## 1. Change Runtime to R (1 pt)\n",
        "\n",
        "Change the runtime of this notebook to R. You can verify that you are running R by displaying the current version you are running. Run the cell below and show the output."
      ],
      "metadata": {
        "id": "KmpG99aAokL9"
      }
    },
    {
      "cell_type": "code",
      "execution_count": 1,
      "metadata": {
        "id": "k03Z1NKAoZrW",
        "colab": {
          "base_uri": "https://localhost:8080/",
          "height": 285
        },
        "outputId": "a83357f7-f88d-4880-e0c1-833c0b6cf736"
      },
      "outputs": [
        {
          "output_type": "display_data",
          "data": {
            "text/plain": [
              "               _                           \n",
              "platform       x86_64-pc-linux-gnu         \n",
              "arch           x86_64                      \n",
              "os             linux-gnu                   \n",
              "system         x86_64, linux-gnu           \n",
              "status                                     \n",
              "major          4                           \n",
              "minor          3.2                         \n",
              "year           2023                        \n",
              "month          10                          \n",
              "day            31                          \n",
              "svn rev        85441                       \n",
              "language       R                           \n",
              "version.string R version 4.3.2 (2023-10-31)\n",
              "nickname       Eye Holes                   "
            ]
          },
          "metadata": {}
        }
      ],
      "source": [
        "version"
      ]
    },
    {
      "cell_type": "markdown",
      "source": [
        "## 2. Create Vectors (2 pts)\n",
        "\n",
        "Create two vectors in the cells below, according to the prompts given."
      ],
      "metadata": {
        "id": "lkaofBQypx1X"
      }
    },
    {
      "cell_type": "code",
      "source": [
        "# create a vector with 7 integer values. Assign it to a variable named \"my_integers\"\n",
        "my_integers <- c(3, 5, 7, 9, 11, 13, 15)\n",
        "print(my_integers)"
      ],
      "metadata": {
        "id": "1fjq5bkEp6Zv",
        "colab": {
          "base_uri": "https://localhost:8080/"
        },
        "outputId": "08246b75-fcb6-423f-f940-0eb09e951cb7"
      },
      "execution_count": 3,
      "outputs": [
        {
          "output_type": "stream",
          "name": "stdout",
          "text": [
            "[1]  3  5  7  9 11 13 15\n"
          ]
        }
      ]
    },
    {
      "cell_type": "code",
      "source": [
        "var1 = 8\n",
        "var2 = 4\n",
        "var3 = 12\n",
        "var4 = 25\n",
        "\n",
        "# Using the variables given above, assign three new variables the following calculated values:\n",
        "#\n",
        "# 1. Your first variable should be assigned the calculated value of var2 divided by var1.\n",
        "# 2. Your second variable should be assigned the calculated value of var2 cubed times var3.\n",
        "# 3. Your third variable should be assigned the calculated value of var4 integer divided by var3.\n",
        "#\n",
        "# Next, create an array populated by your three variables. Assign the array to a new variable named \"my_calculated_values\"\n",
        "\n",
        "calculated_var1 <- var2 / var1\n",
        "calculated_var2 <- var2^3 * var3\n",
        "calculated_var3 <- as.integer(var4 / var3)\n",
        "my_calculated_values <- c(calculated_var1, calculated_var2, calculated_var3)\n",
        "print(my_calculated_values)"
      ],
      "metadata": {
        "id": "f3IFD-T6p6Rd",
        "colab": {
          "base_uri": "https://localhost:8080/"
        },
        "outputId": "591c23f3-6cc2-4978-ea67-375ef58fec0c"
      },
      "execution_count": 5,
      "outputs": [
        {
          "output_type": "stream",
          "name": "stdout",
          "text": [
            "[1]   0.5 768.0   2.0\n"
          ]
        }
      ]
    },
    {
      "cell_type": "markdown",
      "source": [
        "## 3. Vector Indexes (3 pts)"
      ],
      "metadata": {
        "id": "F6Rx0GIGrpOB"
      }
    },
    {
      "cell_type": "markdown",
      "source": [
        "In the cell below, create a vector that starts with the integer 4, that increments by counts of 3 all the way to 28.\n",
        "\n",
        "Assign the vector to a variable name."
      ],
      "metadata": {
        "id": "IDLyOjOJsFCX"
      }
    },
    {
      "cell_type": "code",
      "source": [
        "#\n",
        "my_vector <- seq(from = 4, to = 28, by = 3)\n",
        "print(my_vector)\n"
      ],
      "metadata": {
        "id": "0D5Ia-BPsoPZ",
        "colab": {
          "base_uri": "https://localhost:8080/"
        },
        "outputId": "325026e3-195d-4af1-fadd-63c99ac5e50f"
      },
      "execution_count": 6,
      "outputs": [
        {
          "output_type": "stream",
          "name": "stdout",
          "text": [
            "[1]  4  7 10 13 16 19 22 25 28\n"
          ]
        }
      ]
    },
    {
      "cell_type": "markdown",
      "source": [
        "Next, show how to display this vector with the 3 index removed."
      ],
      "metadata": {
        "id": "RxFRiRMvtfXI"
      }
    },
    {
      "cell_type": "code",
      "source": [
        "#\n",
        "my_new_vector <- my_vector[-3]\n",
        "print(my_new_vector)"
      ],
      "metadata": {
        "id": "MBg7V1LztQlv",
        "colab": {
          "base_uri": "https://localhost:8080/"
        },
        "outputId": "a077ce08-1e4c-415a-f980-c915438006d1"
      },
      "execution_count": 7,
      "outputs": [
        {
          "output_type": "stream",
          "name": "stdout",
          "text": [
            "[1]  4  7 13 16 19 22 25 28\n"
          ]
        }
      ]
    },
    {
      "cell_type": "markdown",
      "source": [
        "Finally, show how to delete the 4th, 5th, and 7th indexes from the vector and update the vector so they are forever removed from the vector.\n",
        "\n",
        "Hint: there is a fairly simple way to do this in one line, such that you don't have to run a separate command for each removal."
      ],
      "metadata": {
        "id": "Rmci-rVCtq-C"
      }
    },
    {
      "cell_type": "code",
      "source": [
        "#\n",
        "my_updated_vector <- my_new_vector[-c(4, 5, 7)]\n",
        "print(my_updated_vector)"
      ],
      "metadata": {
        "id": "y1k0NHNruFX2",
        "colab": {
          "base_uri": "https://localhost:8080/"
        },
        "outputId": "78fb4603-c77d-4108-8d21-2a9dd2cbe700"
      },
      "execution_count": 8,
      "outputs": [
        {
          "output_type": "stream",
          "name": "stdout",
          "text": [
            "[1]  4  7 13 22 28\n"
          ]
        }
      ]
    },
    {
      "cell_type": "markdown",
      "source": [
        "## 4. Create a Data Frame (3 pts)\n",
        "\n",
        "In the cell below create a data frame with 10 observations (rows) and 5 variables (columns) each. This data frame will describe some of your favorite musical performers. You can use real or fictitious data to populate your data frame.\n",
        "\n",
        "Variables:\n",
        "  - `artist` - Artist or band name\n",
        "  - `category` - Rock, Pop, Country, Hip-hop, Jazz, Classical, Soul, Other. (Try to distribute your selections here)\n",
        "  - `size` - (number of members, 1-?)\n",
        "  - `start` - Debut year of artist.\n",
        "  - `grammy` - Grammmy winner? `TRUE` | `FALSE`\n",
        "\n",
        "First create vectors for each variable populated with your own performer data. Then create a data frame from these vectors (be sure to assign column names too) and assign it to a named variable such as `df`."
      ],
      "metadata": {
        "id": "-2ZaFcCCv3o8"
      }
    },
    {
      "cell_type": "code",
      "source": [
        "#\n",
        "artist <- c(\"The Beatles\", \"ENHYPEN\", \"Johnny Cash\", \"Kendrick Lamar\", \"Miles Davis\",\n",
        "            \"Beethoven\", \"Aretha Franklin\", \"Radiohead\", \"Taylor Swift\", \"Prince\")\n",
        "category <- c(\"Rock\", \"Pop\", \"Country\", \"Hip-hop\", \"Jazz\", \"Classical\", \"Soul\", \"Rock\", \"Pop\", \"Other\")\n",
        "size <- c(4, 1, 1, 1, 5, 1, 1, 5, 1, 1)\n",
        "start <- c(1960, 2021, 1955, 2005, 1944, 1790, 1956, 1985, 2006, 1975)\n",
        "grammy <- c(TRUE,FALSE, FALSE, TRUE, TRUE, FALSE, TRUE, TRUE, TRUE, TRUE)\n",
        "df <- data.frame(artist = artist,\n",
        "                 category = category,\n",
        "                 size = size,\n",
        "                 start = start,\n",
        "                 grammy = grammy)\n",
        "print(df)"
      ],
      "metadata": {
        "id": "V4nBsdVsyauQ",
        "colab": {
          "base_uri": "https://localhost:8080/"
        },
        "outputId": "dda8476f-097d-4b45-e85e-34391c7e7113"
      },
      "execution_count": 9,
      "outputs": [
        {
          "output_type": "stream",
          "name": "stdout",
          "text": [
            "            artist  category size start grammy\n",
            "1      The Beatles      Rock    4  1960   TRUE\n",
            "2          ENHYPEN       Pop    1  2021  FALSE\n",
            "3      Johnny Cash   Country    1  1955  FALSE\n",
            "4   Kendrick Lamar   Hip-hop    1  2005   TRUE\n",
            "5      Miles Davis      Jazz    5  1944   TRUE\n",
            "6        Beethoven Classical    1  1790  FALSE\n",
            "7  Aretha Franklin      Soul    1  1956   TRUE\n",
            "8        Radiohead      Rock    5  1985   TRUE\n",
            "9     Taylor Swift       Pop    1  2006   TRUE\n",
            "10          Prince     Other    1  1975   TRUE\n"
          ]
        }
      ]
    },
    {
      "cell_type": "markdown",
      "source": [
        "## 5. Filter/Query a Data Frame (2 pts)\n",
        "\n",
        "Use the data frame you created above and show how to perform the following queries."
      ],
      "metadata": {
        "id": "nG5m-FIRydNU"
      }
    },
    {
      "cell_type": "code",
      "source": [
        "# Display the first 3 records and only the `artist`, `category` and `grammy` columns for each.\n",
        "columns <- df[, c(\"artist\", \"category\", \"grammy\")]\n",
        "first_3_records <- head(columns, 3)\n",
        "print(first_3_records)"
      ],
      "metadata": {
        "id": "OlmbfFi6zSgR",
        "colab": {
          "base_uri": "https://localhost:8080/"
        },
        "outputId": "2922c1b3-7772-4bcb-a91c-54fef1b51117"
      },
      "execution_count": 12,
      "outputs": [
        {
          "output_type": "stream",
          "name": "stdout",
          "text": [
            "       artist category grammy\n",
            "1 The Beatles     Rock   TRUE\n",
            "2     ENHYPEN      Pop  FALSE\n",
            "3 Johnny Cash  Country  FALSE\n"
          ]
        }
      ]
    },
    {
      "cell_type": "code",
      "source": [
        "# Display the records for just one musical category, such as only Rock bands or only Hip-hop bands.\n",
        "pop_artists <- subset(df, category == \"Pop\")\n",
        "print(pop_artists)"
      ],
      "metadata": {
        "id": "-l_kpWSzzlhG",
        "colab": {
          "base_uri": "https://localhost:8080/"
        },
        "outputId": "37504beb-5af1-4d25-f640-508b29574dfa"
      },
      "execution_count": 13,
      "outputs": [
        {
          "output_type": "stream",
          "name": "stdout",
          "text": [
            "        artist category size start grammy\n",
            "2      ENHYPEN      Pop    1  2021  FALSE\n",
            "9 Taylor Swift      Pop    1  2006   TRUE\n"
          ]
        }
      ]
    },
    {
      "cell_type": "markdown",
      "source": [
        "## Query a Data Frame using `tidyverse` (4 pts)\n",
        "\n",
        "1. Show how to load the library.\n",
        "2. Show how to glimpse basic features of the `starwars` data table.\n",
        "3. Create a query using tidyverse that retrieves the following data:\n",
        "    - Selects only these columns: `name`, `height`, `sex`, `species`.\n",
        "    - Filters for all species that are NOT Human.\n",
        "    - Arranges the resulting data in order by name.\n",
        "\n",
        "Show your output in a data frame."
      ],
      "metadata": {
        "id": "L-xnszjS0Byy"
      }
    },
    {
      "cell_type": "code",
      "source": [
        "#\n",
        "library(tidyverse)\n",
        "glimpse(starwars)\n",
        "output<- starwars %>%\n",
        "  select(name,height,sex,species) %>%\n",
        "  filter(species != \"Human\") %>%\n",
        "  arrange(name)\n",
        "print(output)"
      ],
      "metadata": {
        "id": "yTMLzrxS0F4u"
      },
      "execution_count": null,
      "outputs": []
    }
  ]
}