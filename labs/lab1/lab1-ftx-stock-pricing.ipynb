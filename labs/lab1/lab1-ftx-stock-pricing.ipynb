{
  "nbformat": 4,
  "nbformat_minor": 0,
  "metadata": {
    "colab": {
      "provenance": [],
      "include_colab_link": true
    },
    "kernelspec": {
      "name": "python3",
      "display_name": "Python 3"
    },
    "language_info": {
      "name": "python"
    }
  },
  "cells": [
    {
      "cell_type": "markdown",
      "metadata": {
        "id": "view-in-github",
        "colab_type": "text"
      },
      "source": [
        "<a href=\"https://colab.research.google.com/github/zxiqxiy/ds1002-pjn7nn/blob/main/labs/lab1/lab1-ftx-stock-pricing.ipynb\" target=\"_parent\"><img src=\"https://colab.research.google.com/assets/colab-badge.svg\" alt=\"Open In Colab\"/></a>"
      ]
    },
    {
      "cell_type": "markdown",
      "source": [
        "# DS1002 Lab 1: Python\n",
        "\n",
        "In this lab you will work with a dataset, writing python to generate the deliverables specified in the cells below.\n",
        "\n",
        "> **FTX** was a cryptocurrency exchange founded by Sam Bankman-Fried that saw both a spectacular rise and collapse between 2021 and 2022. At one point it had a valuation of $32B. Bankman-Fried was recently found guilty on seven counts of fraud and conspiracy.\n",
        "\n",
        "The dataset for this assignment covers that rise and fall from the viewpoint of daily stock closing prices for FTX (ticker symbol `FTT`).\n",
        "\n",
        "Answer the questions below with the appropriate Python code. Point assignments are indicated for each section. There are 15 total points possible for this lab, which counts as 5% of your overall grade. There is a 1-point extra credit option at the end.\n",
        "\n",
        "Useful reference material:\n",
        "- [Pandas Review](https://colab.research.google.com/github/nmagee/ds1002/blob/main/notebooks/pandas-review.ipynb) notebook.\n",
        "- [Charts Reference](https://colab.research.google.com/github/nmagee/ds1002/blob/main/notebooks/charts-in-colaboratory.ipynb) notebook.\n",
        "- [Plots Walkthrough](https://colab.research.google.com/github/nmagee/ds1002/blob/main/notebooks/plotting-examples.ipynb)"
      ],
      "metadata": {
        "id": "2yEePrJ-1G1Z"
      }
    },
    {
      "cell_type": "markdown",
      "source": [
        "## Group Submissions\n",
        "\n",
        "If you are working in a group to complete this lab, you may have no more than 3 members to a group. Group members should be indicated in the cell below -- list both names and UVA computing IDs.\n",
        "\n",
        "Each student should then submit **the same URL** for the lab in Canvas. (If a group has Member1, Member2, and Member3, only one member needs to save the completed work back to GitHub and all members should submit that URL for grading.)"
      ],
      "metadata": {
        "id": "acXFkytd2PWS"
      }
    },
    {
      "cell_type": "code",
      "source": [
        "# List group members (if applicable). Identify names and computing IDs\n",
        "#\n",
        "# Name   Chloe(Qingyi) Zhu                 Computing ID PJN7NN"
      ],
      "metadata": {
        "id": "4N8_o3tG232h"
      },
      "execution_count": 56,
      "outputs": []
    },
    {
      "cell_type": "markdown",
      "source": [
        "## 1. Load Libraries & Data (3 pts)\n",
        "\n",
        "https://s3.amazonaws.com/ds1002-resources/data/ftx-2021-01-01--2023-12-31.csv\n",
        "\n",
        "Import any necessary libraries and load the remote CSV file below into a DataFrame. **Resolve any import issues you need to.**"
      ],
      "metadata": {
        "id": "w0VxTDNf1k2O"
      }
    },
    {
      "cell_type": "code",
      "execution_count": 28,
      "metadata": {
        "id": "I0B9chFD1GR0",
        "colab": {
          "base_uri": "https://localhost:8080/"
        },
        "outputId": "64672873-d8ff-4177-8e5d-7aecbd55e389"
      },
      "outputs": [
        {
          "output_type": "stream",
          "name": "stdout",
          "text": [
            "Data loaded.\n",
            "                   timeOpen                 timeClose  \\\n",
            "0  2022-12-31T00:00:00.000Z  2022-12-31T23:59:59.999Z   \n",
            "1  2022-12-30T00:00:00.000Z  2022-12-30T23:59:59.999Z   \n",
            "2  2022-12-29T00:00:00.000Z  2022-12-29T23:59:59.999Z   \n",
            "3  2022-12-28T00:00:00.000Z  2022-12-28T23:59:59.999Z   \n",
            "4  2022-12-27T00:00:00.000Z  2022-12-27T23:59:59.999Z   \n",
            "\n",
            "                   timeHigh                   timeLow      open      high  \\\n",
            "0  2022-12-31T15:23:00.000Z  2022-12-31T00:21:00.000Z  0.838968  0.853502   \n",
            "1  2022-12-30T04:22:00.000Z  2022-12-30T15:12:00.000Z  0.860193  0.864752   \n",
            "2  2022-12-29T00:49:00.000Z  2022-12-29T21:03:00.000Z  0.885723  0.887118   \n",
            "3  2022-12-28T00:20:00.000Z  2022-12-28T10:44:00.000Z  0.921162  0.925702   \n",
            "4  2022-12-27T14:19:00.000Z  2022-12-27T19:12:00.000Z  0.931138  0.955402   \n",
            "\n",
            "        low     close      volume     marketCap                 timestamp  \n",
            "0  0.835226  0.842688  3001502.06  2.771561e+08  2022-12-31T23:59:59.999Z  \n",
            "1  0.826643  0.839048  3608615.07  2.759588e+08  2022-12-30T23:59:59.999Z  \n",
            "2  0.843029  0.860231  3766979.57  2.829258e+08  2022-12-29T23:59:59.999Z  \n",
            "3  0.869842  0.886091  4192949.85  2.914310e+08  2022-12-28T23:59:59.999Z  \n",
            "4  0.916414  0.923668  4574953.05  3.037898e+08  2022-12-27T23:59:59.999Z  \n"
          ]
        }
      ],
      "source": [
        "import pandas as pd\n",
        "df = pd.read_csv('ftx.csv', delimiter=';')\n",
        "print(\"Data loaded.\")\n",
        "print(df.head())"
      ]
    },
    {
      "cell_type": "markdown",
      "source": [
        "## 2. Get Summary Data (1 pt)"
      ],
      "metadata": {
        "id": "H389W9dkobGI"
      }
    },
    {
      "cell_type": "markdown",
      "source": [
        "In code, display how many rows and columns are in the raw dataset."
      ],
      "metadata": {
        "id": "KA0wbjmE-4Q9"
      }
    },
    {
      "cell_type": "code",
      "source": [
        "print(df.shape)"
      ],
      "metadata": {
        "id": "XhULtu7qox-p",
        "colab": {
          "base_uri": "https://localhost:8080/"
        },
        "outputId": "2fd2c64f-2f8c-4a7c-f3c0-150248622bef"
      },
      "execution_count": 29,
      "outputs": [
        {
          "output_type": "stream",
          "name": "stdout",
          "text": [
            "(741, 11)\n"
          ]
        }
      ]
    },
    {
      "cell_type": "markdown",
      "source": [
        "## 3. Clean and Organize the Data (3 pts)\n",
        "\n",
        "Check for data quality.\n",
        "\n",
        "- Resolve any empty values or duplicate rows.\n",
        "- Order the data properly if necessary.\n",
        "- Drop the following columns and save the dataframe: `timeOpen`, `timeClose`, `timeHigh`, `timeLow`, `marketCap`,\n",
        "\n"
      ],
      "metadata": {
        "id": "abshX7QeooAs"
      }
    },
    {
      "cell_type": "code",
      "source": [
        "print(df.columns)"
      ],
      "metadata": {
        "id": "Aq3J7yD82uwW",
        "colab": {
          "base_uri": "https://localhost:8080/"
        },
        "outputId": "05b00140-6880-44e0-9a33-f146bb9f33df"
      },
      "execution_count": 30,
      "outputs": [
        {
          "output_type": "stream",
          "name": "stdout",
          "text": [
            "Index(['timeOpen', 'timeClose', 'timeHigh', 'timeLow', 'open', 'high', 'low',\n",
            "       'close', 'volume', 'marketCap', 'timestamp'],\n",
            "      dtype='object')\n"
          ]
        }
      ]
    },
    {
      "cell_type": "code",
      "source": [
        "df=df.dropna()\n",
        "df=df.drop_duplicates()\n",
        "df=df.drop(columns=['timeOpen', 'timeClose', 'timeHigh', 'timeLow', 'marketCap'])"
      ],
      "metadata": {
        "id": "LCee6vfjiUpr"
      },
      "execution_count": 31,
      "outputs": []
    },
    {
      "cell_type": "markdown",
      "source": [
        "Now display the first 10 rows of the cleaned dataset."
      ],
      "metadata": {
        "id": "Ccwu8bUx_Azj"
      }
    },
    {
      "cell_type": "code",
      "source": [
        "df.to_csv(\"cleaned_data.csv\")\n",
        "cleaned_df = pd.read_csv(\"cleaned_data.csv\")\n",
        "df.head(10)"
      ],
      "metadata": {
        "id": "1iVIskCs_Ewe",
        "colab": {
          "base_uri": "https://localhost:8080/",
          "height": 363
        },
        "outputId": "a9c0a9eb-003b-4a14-d3e3-ff8060e51fe8"
      },
      "execution_count": 32,
      "outputs": [
        {
          "output_type": "execute_result",
          "data": {
            "text/plain": [
              "       open      high       low     close       volume  \\\n",
              "0  0.838968  0.853502  0.835226  0.842688   3001502.06   \n",
              "1  0.860193  0.864752  0.826643  0.839048   3608615.07   \n",
              "2  0.885723  0.887118  0.843029  0.860231   3766979.57   \n",
              "3  0.921162  0.925702  0.869842  0.886091   4192949.85   \n",
              "4  0.931138  0.955402  0.916414  0.923668   4574953.05   \n",
              "5  0.894567  1.011183  0.893652  0.930696   7065306.21   \n",
              "6  0.924432  0.935517  0.894370  0.894657   2577834.83   \n",
              "7  0.957505  0.975671  0.921085  0.924433   5055004.16   \n",
              "8  1.027133  1.038282  0.948058  0.957006  17088962.94   \n",
              "9  0.873973  1.127198  0.835625  1.027162  22418556.51   \n",
              "\n",
              "                  timestamp  \n",
              "0  2022-12-31T23:59:59.999Z  \n",
              "1  2022-12-30T23:59:59.999Z  \n",
              "2  2022-12-29T23:59:59.999Z  \n",
              "3  2022-12-28T23:59:59.999Z  \n",
              "4  2022-12-27T23:59:59.999Z  \n",
              "5  2022-12-26T23:59:59.999Z  \n",
              "6  2022-12-25T23:59:59.999Z  \n",
              "7  2022-12-24T23:59:59.999Z  \n",
              "8  2022-12-23T23:59:59.999Z  \n",
              "9  2022-12-22T23:59:59.999Z  "
            ],
            "text/html": [
              "\n",
              "  <div id=\"df-8f1abcde-4fa2-4b97-b5a4-e9d1fc75cbcd\" class=\"colab-df-container\">\n",
              "    <div>\n",
              "<style scoped>\n",
              "    .dataframe tbody tr th:only-of-type {\n",
              "        vertical-align: middle;\n",
              "    }\n",
              "\n",
              "    .dataframe tbody tr th {\n",
              "        vertical-align: top;\n",
              "    }\n",
              "\n",
              "    .dataframe thead th {\n",
              "        text-align: right;\n",
              "    }\n",
              "</style>\n",
              "<table border=\"1\" class=\"dataframe\">\n",
              "  <thead>\n",
              "    <tr style=\"text-align: right;\">\n",
              "      <th></th>\n",
              "      <th>open</th>\n",
              "      <th>high</th>\n",
              "      <th>low</th>\n",
              "      <th>close</th>\n",
              "      <th>volume</th>\n",
              "      <th>timestamp</th>\n",
              "    </tr>\n",
              "  </thead>\n",
              "  <tbody>\n",
              "    <tr>\n",
              "      <th>0</th>\n",
              "      <td>0.838968</td>\n",
              "      <td>0.853502</td>\n",
              "      <td>0.835226</td>\n",
              "      <td>0.842688</td>\n",
              "      <td>3001502.06</td>\n",
              "      <td>2022-12-31T23:59:59.999Z</td>\n",
              "    </tr>\n",
              "    <tr>\n",
              "      <th>1</th>\n",
              "      <td>0.860193</td>\n",
              "      <td>0.864752</td>\n",
              "      <td>0.826643</td>\n",
              "      <td>0.839048</td>\n",
              "      <td>3608615.07</td>\n",
              "      <td>2022-12-30T23:59:59.999Z</td>\n",
              "    </tr>\n",
              "    <tr>\n",
              "      <th>2</th>\n",
              "      <td>0.885723</td>\n",
              "      <td>0.887118</td>\n",
              "      <td>0.843029</td>\n",
              "      <td>0.860231</td>\n",
              "      <td>3766979.57</td>\n",
              "      <td>2022-12-29T23:59:59.999Z</td>\n",
              "    </tr>\n",
              "    <tr>\n",
              "      <th>3</th>\n",
              "      <td>0.921162</td>\n",
              "      <td>0.925702</td>\n",
              "      <td>0.869842</td>\n",
              "      <td>0.886091</td>\n",
              "      <td>4192949.85</td>\n",
              "      <td>2022-12-28T23:59:59.999Z</td>\n",
              "    </tr>\n",
              "    <tr>\n",
              "      <th>4</th>\n",
              "      <td>0.931138</td>\n",
              "      <td>0.955402</td>\n",
              "      <td>0.916414</td>\n",
              "      <td>0.923668</td>\n",
              "      <td>4574953.05</td>\n",
              "      <td>2022-12-27T23:59:59.999Z</td>\n",
              "    </tr>\n",
              "    <tr>\n",
              "      <th>5</th>\n",
              "      <td>0.894567</td>\n",
              "      <td>1.011183</td>\n",
              "      <td>0.893652</td>\n",
              "      <td>0.930696</td>\n",
              "      <td>7065306.21</td>\n",
              "      <td>2022-12-26T23:59:59.999Z</td>\n",
              "    </tr>\n",
              "    <tr>\n",
              "      <th>6</th>\n",
              "      <td>0.924432</td>\n",
              "      <td>0.935517</td>\n",
              "      <td>0.894370</td>\n",
              "      <td>0.894657</td>\n",
              "      <td>2577834.83</td>\n",
              "      <td>2022-12-25T23:59:59.999Z</td>\n",
              "    </tr>\n",
              "    <tr>\n",
              "      <th>7</th>\n",
              "      <td>0.957505</td>\n",
              "      <td>0.975671</td>\n",
              "      <td>0.921085</td>\n",
              "      <td>0.924433</td>\n",
              "      <td>5055004.16</td>\n",
              "      <td>2022-12-24T23:59:59.999Z</td>\n",
              "    </tr>\n",
              "    <tr>\n",
              "      <th>8</th>\n",
              "      <td>1.027133</td>\n",
              "      <td>1.038282</td>\n",
              "      <td>0.948058</td>\n",
              "      <td>0.957006</td>\n",
              "      <td>17088962.94</td>\n",
              "      <td>2022-12-23T23:59:59.999Z</td>\n",
              "    </tr>\n",
              "    <tr>\n",
              "      <th>9</th>\n",
              "      <td>0.873973</td>\n",
              "      <td>1.127198</td>\n",
              "      <td>0.835625</td>\n",
              "      <td>1.027162</td>\n",
              "      <td>22418556.51</td>\n",
              "      <td>2022-12-22T23:59:59.999Z</td>\n",
              "    </tr>\n",
              "  </tbody>\n",
              "</table>\n",
              "</div>\n",
              "    <div class=\"colab-df-buttons\">\n",
              "\n",
              "  <div class=\"colab-df-container\">\n",
              "    <button class=\"colab-df-convert\" onclick=\"convertToInteractive('df-8f1abcde-4fa2-4b97-b5a4-e9d1fc75cbcd')\"\n",
              "            title=\"Convert this dataframe to an interactive table.\"\n",
              "            style=\"display:none;\">\n",
              "\n",
              "  <svg xmlns=\"http://www.w3.org/2000/svg\" height=\"24px\" viewBox=\"0 -960 960 960\">\n",
              "    <path d=\"M120-120v-720h720v720H120Zm60-500h600v-160H180v160Zm220 220h160v-160H400v160Zm0 220h160v-160H400v160ZM180-400h160v-160H180v160Zm440 0h160v-160H620v160ZM180-180h160v-160H180v160Zm440 0h160v-160H620v160Z\"/>\n",
              "  </svg>\n",
              "    </button>\n",
              "\n",
              "  <style>\n",
              "    .colab-df-container {\n",
              "      display:flex;\n",
              "      gap: 12px;\n",
              "    }\n",
              "\n",
              "    .colab-df-convert {\n",
              "      background-color: #E8F0FE;\n",
              "      border: none;\n",
              "      border-radius: 50%;\n",
              "      cursor: pointer;\n",
              "      display: none;\n",
              "      fill: #1967D2;\n",
              "      height: 32px;\n",
              "      padding: 0 0 0 0;\n",
              "      width: 32px;\n",
              "    }\n",
              "\n",
              "    .colab-df-convert:hover {\n",
              "      background-color: #E2EBFA;\n",
              "      box-shadow: 0px 1px 2px rgba(60, 64, 67, 0.3), 0px 1px 3px 1px rgba(60, 64, 67, 0.15);\n",
              "      fill: #174EA6;\n",
              "    }\n",
              "\n",
              "    .colab-df-buttons div {\n",
              "      margin-bottom: 4px;\n",
              "    }\n",
              "\n",
              "    [theme=dark] .colab-df-convert {\n",
              "      background-color: #3B4455;\n",
              "      fill: #D2E3FC;\n",
              "    }\n",
              "\n",
              "    [theme=dark] .colab-df-convert:hover {\n",
              "      background-color: #434B5C;\n",
              "      box-shadow: 0px 1px 3px 1px rgba(0, 0, 0, 0.15);\n",
              "      filter: drop-shadow(0px 1px 2px rgba(0, 0, 0, 0.3));\n",
              "      fill: #FFFFFF;\n",
              "    }\n",
              "  </style>\n",
              "\n",
              "    <script>\n",
              "      const buttonEl =\n",
              "        document.querySelector('#df-8f1abcde-4fa2-4b97-b5a4-e9d1fc75cbcd button.colab-df-convert');\n",
              "      buttonEl.style.display =\n",
              "        google.colab.kernel.accessAllowed ? 'block' : 'none';\n",
              "\n",
              "      async function convertToInteractive(key) {\n",
              "        const element = document.querySelector('#df-8f1abcde-4fa2-4b97-b5a4-e9d1fc75cbcd');\n",
              "        const dataTable =\n",
              "          await google.colab.kernel.invokeFunction('convertToInteractive',\n",
              "                                                    [key], {});\n",
              "        if (!dataTable) return;\n",
              "\n",
              "        const docLinkHtml = 'Like what you see? Visit the ' +\n",
              "          '<a target=\"_blank\" href=https://colab.research.google.com/notebooks/data_table.ipynb>data table notebook</a>'\n",
              "          + ' to learn more about interactive tables.';\n",
              "        element.innerHTML = '';\n",
              "        dataTable['output_type'] = 'display_data';\n",
              "        await google.colab.output.renderOutput(dataTable, element);\n",
              "        const docLink = document.createElement('div');\n",
              "        docLink.innerHTML = docLinkHtml;\n",
              "        element.appendChild(docLink);\n",
              "      }\n",
              "    </script>\n",
              "  </div>\n",
              "\n",
              "\n",
              "<div id=\"df-bca7f6fb-789f-4dbd-967f-bdb02fe800a9\">\n",
              "  <button class=\"colab-df-quickchart\" onclick=\"quickchart('df-bca7f6fb-789f-4dbd-967f-bdb02fe800a9')\"\n",
              "            title=\"Suggest charts\"\n",
              "            style=\"display:none;\">\n",
              "\n",
              "<svg xmlns=\"http://www.w3.org/2000/svg\" height=\"24px\"viewBox=\"0 0 24 24\"\n",
              "     width=\"24px\">\n",
              "    <g>\n",
              "        <path d=\"M19 3H5c-1.1 0-2 .9-2 2v14c0 1.1.9 2 2 2h14c1.1 0 2-.9 2-2V5c0-1.1-.9-2-2-2zM9 17H7v-7h2v7zm4 0h-2V7h2v10zm4 0h-2v-4h2v4z\"/>\n",
              "    </g>\n",
              "</svg>\n",
              "  </button>\n",
              "\n",
              "<style>\n",
              "  .colab-df-quickchart {\n",
              "      --bg-color: #E8F0FE;\n",
              "      --fill-color: #1967D2;\n",
              "      --hover-bg-color: #E2EBFA;\n",
              "      --hover-fill-color: #174EA6;\n",
              "      --disabled-fill-color: #AAA;\n",
              "      --disabled-bg-color: #DDD;\n",
              "  }\n",
              "\n",
              "  [theme=dark] .colab-df-quickchart {\n",
              "      --bg-color: #3B4455;\n",
              "      --fill-color: #D2E3FC;\n",
              "      --hover-bg-color: #434B5C;\n",
              "      --hover-fill-color: #FFFFFF;\n",
              "      --disabled-bg-color: #3B4455;\n",
              "      --disabled-fill-color: #666;\n",
              "  }\n",
              "\n",
              "  .colab-df-quickchart {\n",
              "    background-color: var(--bg-color);\n",
              "    border: none;\n",
              "    border-radius: 50%;\n",
              "    cursor: pointer;\n",
              "    display: none;\n",
              "    fill: var(--fill-color);\n",
              "    height: 32px;\n",
              "    padding: 0;\n",
              "    width: 32px;\n",
              "  }\n",
              "\n",
              "  .colab-df-quickchart:hover {\n",
              "    background-color: var(--hover-bg-color);\n",
              "    box-shadow: 0 1px 2px rgba(60, 64, 67, 0.3), 0 1px 3px 1px rgba(60, 64, 67, 0.15);\n",
              "    fill: var(--button-hover-fill-color);\n",
              "  }\n",
              "\n",
              "  .colab-df-quickchart-complete:disabled,\n",
              "  .colab-df-quickchart-complete:disabled:hover {\n",
              "    background-color: var(--disabled-bg-color);\n",
              "    fill: var(--disabled-fill-color);\n",
              "    box-shadow: none;\n",
              "  }\n",
              "\n",
              "  .colab-df-spinner {\n",
              "    border: 2px solid var(--fill-color);\n",
              "    border-color: transparent;\n",
              "    border-bottom-color: var(--fill-color);\n",
              "    animation:\n",
              "      spin 1s steps(1) infinite;\n",
              "  }\n",
              "\n",
              "  @keyframes spin {\n",
              "    0% {\n",
              "      border-color: transparent;\n",
              "      border-bottom-color: var(--fill-color);\n",
              "      border-left-color: var(--fill-color);\n",
              "    }\n",
              "    20% {\n",
              "      border-color: transparent;\n",
              "      border-left-color: var(--fill-color);\n",
              "      border-top-color: var(--fill-color);\n",
              "    }\n",
              "    30% {\n",
              "      border-color: transparent;\n",
              "      border-left-color: var(--fill-color);\n",
              "      border-top-color: var(--fill-color);\n",
              "      border-right-color: var(--fill-color);\n",
              "    }\n",
              "    40% {\n",
              "      border-color: transparent;\n",
              "      border-right-color: var(--fill-color);\n",
              "      border-top-color: var(--fill-color);\n",
              "    }\n",
              "    60% {\n",
              "      border-color: transparent;\n",
              "      border-right-color: var(--fill-color);\n",
              "    }\n",
              "    80% {\n",
              "      border-color: transparent;\n",
              "      border-right-color: var(--fill-color);\n",
              "      border-bottom-color: var(--fill-color);\n",
              "    }\n",
              "    90% {\n",
              "      border-color: transparent;\n",
              "      border-bottom-color: var(--fill-color);\n",
              "    }\n",
              "  }\n",
              "</style>\n",
              "\n",
              "  <script>\n",
              "    async function quickchart(key) {\n",
              "      const quickchartButtonEl =\n",
              "        document.querySelector('#' + key + ' button');\n",
              "      quickchartButtonEl.disabled = true;  // To prevent multiple clicks.\n",
              "      quickchartButtonEl.classList.add('colab-df-spinner');\n",
              "      try {\n",
              "        const charts = await google.colab.kernel.invokeFunction(\n",
              "            'suggestCharts', [key], {});\n",
              "      } catch (error) {\n",
              "        console.error('Error during call to suggestCharts:', error);\n",
              "      }\n",
              "      quickchartButtonEl.classList.remove('colab-df-spinner');\n",
              "      quickchartButtonEl.classList.add('colab-df-quickchart-complete');\n",
              "    }\n",
              "    (() => {\n",
              "      let quickchartButtonEl =\n",
              "        document.querySelector('#df-bca7f6fb-789f-4dbd-967f-bdb02fe800a9 button');\n",
              "      quickchartButtonEl.style.display =\n",
              "        google.colab.kernel.accessAllowed ? 'block' : 'none';\n",
              "    })();\n",
              "  </script>\n",
              "</div>\n",
              "    </div>\n",
              "  </div>\n"
            ]
          },
          "metadata": {},
          "execution_count": 32
        }
      ]
    },
    {
      "cell_type": "markdown",
      "source": [
        "## 4. Calculate Daily Gains/Losses (2 pts)"
      ],
      "metadata": {
        "id": "3-4dd8nsr_zF"
      }
    },
    {
      "cell_type": "markdown",
      "source": [
        "Using Pandas, add a new column named `[\"close_change\"]` to the dataframe that calculates the difference between daily closing prices for FTX. This will result in positive (growth) and negative (loss) values.\n",
        "\n",
        "Note:\n",
        "- Be careful about how you calculate this. Each row should calculate that difference from the row above it, which must be the previous calendar day.\n",
        "- Reference code for this is available in the [Pandas Review](https://colab.research.google.com/github/nmagee/ds1002/blob/main/notebooks/pandas-review.ipynb) notebook. Hint: It is not complicated and does not require a for-loop."
      ],
      "metadata": {
        "id": "HrGLlM83vH0c"
      }
    },
    {
      "cell_type": "code",
      "source": [
        "cleaned_df['close_change'] = cleaned_df['close'].diff()\n",
        "print(cleaned_df.head())"
      ],
      "metadata": {
        "id": "7P8J0jEtvCiv",
        "colab": {
          "base_uri": "https://localhost:8080/"
        },
        "outputId": "6bd7e812-55f3-4689-db5f-e2d62ed43640"
      },
      "execution_count": 33,
      "outputs": [
        {
          "output_type": "stream",
          "name": "stdout",
          "text": [
            "   Unnamed: 0      open      high       low     close      volume  \\\n",
            "0           0  0.838968  0.853502  0.835226  0.842688  3001502.06   \n",
            "1           1  0.860193  0.864752  0.826643  0.839048  3608615.07   \n",
            "2           2  0.885723  0.887118  0.843029  0.860231  3766979.57   \n",
            "3           3  0.921162  0.925702  0.869842  0.886091  4192949.85   \n",
            "4           4  0.931138  0.955402  0.916414  0.923668  4574953.05   \n",
            "\n",
            "                  timestamp  close_change  \n",
            "0  2022-12-31T23:59:59.999Z           NaN  \n",
            "1  2022-12-30T23:59:59.999Z     -0.003640  \n",
            "2  2022-12-29T23:59:59.999Z      0.021183  \n",
            "3  2022-12-28T23:59:59.999Z      0.025860  \n",
            "4  2022-12-27T23:59:59.999Z      0.037577  \n"
          ]
        }
      ]
    },
    {
      "cell_type": "markdown",
      "source": [
        "## 5. Identify Growth Days (1 pt)"
      ],
      "metadata": {
        "id": "KKg8d9RDyeDa"
      }
    },
    {
      "cell_type": "markdown",
      "source": [
        "Based on the daily change in closing prices calculated above, identify the top 10 days of positive growth for FTX.\n",
        "\n",
        "Display your results in a table showing both the rate of change and their dates."
      ],
      "metadata": {
        "id": "5kKBo3_sykGD"
      }
    },
    {
      "cell_type": "code",
      "source": [
        "positive_growth = cleaned_df[cleaned_df['close_change'] > 0]\n",
        "top_10_positive_growth = positive_growth.sort_values(by='close_change', ascending=False).head(10)\n",
        "print(positive_growth)\n",
        "print(top_10_positive_growth)"
      ],
      "metadata": {
        "id": "xRlliRMY2_-c",
        "colab": {
          "base_uri": "https://localhost:8080/"
        },
        "outputId": "070c4080-09b8-4675-dd6e-097f872869c9"
      },
      "execution_count": 38,
      "outputs": [
        {
          "output_type": "stream",
          "name": "stdout",
          "text": [
            "     Unnamed: 0      open       high       low     close        volume  \\\n",
            "2             2  0.885723   0.887118  0.843029  0.860231  3.766980e+06   \n",
            "3             3  0.921162   0.925702  0.869842  0.886091  4.192950e+06   \n",
            "4             4  0.931138   0.955402  0.916414  0.923668  4.574953e+06   \n",
            "5             5  0.894567   1.011183  0.893652  0.930696  7.065306e+06   \n",
            "7             7  0.957505   0.975671  0.921085  0.924433  5.055004e+06   \n",
            "..          ...       ...        ...       ...       ...           ...   \n",
            "715         728  9.184092   9.872009  8.966852  9.620557  1.409125e+07   \n",
            "718         731  9.298315   9.298315  7.126050  8.610997  1.013024e+08   \n",
            "719         732  9.571917   9.944797  8.657147  9.308809  3.101239e+07   \n",
            "720         733  9.370450   9.636120  8.728044  9.570511  2.849895e+07   \n",
            "722         735  9.386493  10.004872  9.215244  9.562131  4.630334e+07   \n",
            "\n",
            "                    timestamp  close_change  \n",
            "2    2022-12-29T23:59:59.999Z      0.021183  \n",
            "3    2022-12-28T23:59:59.999Z      0.025860  \n",
            "4    2022-12-27T23:59:59.999Z      0.037577  \n",
            "5    2022-12-26T23:59:59.999Z      0.007028  \n",
            "7    2022-12-24T23:59:59.999Z      0.029776  \n",
            "..                        ...           ...  \n",
            "715  2021-01-14T23:59:59.999Z      0.448420  \n",
            "718  2021-01-11T23:59:59.999Z      0.229863  \n",
            "719  2021-01-10T23:59:59.999Z      0.697813  \n",
            "720  2021-01-09T23:59:59.999Z      0.261701  \n",
            "722  2021-01-07T23:59:59.999Z      0.181143  \n",
            "\n",
            "[354 rows x 8 columns]\n",
            "     Unnamed: 0       open       high        low      close        volume  \\\n",
            "54           56  22.263740  23.151038  21.923954  22.142196  7.211689e+08   \n",
            "463         468  71.161896  71.519686  66.035973  67.482300  4.886910e+08   \n",
            "591         598  50.424719  54.028511  50.015720  50.955200  1.552346e+08   \n",
            "471         478  67.676450  72.960747  66.715633  71.181617  5.739419e+08   \n",
            "468         473  63.646636  63.964677  59.981068  60.813879  4.261729e+08   \n",
            "477         484  77.694911  85.016852  71.891980  79.871313  3.338582e+09   \n",
            "345         350  46.731222  49.846724  45.218760  45.225963  2.595717e+08   \n",
            "587         594  36.064557  36.743029  32.408227  33.298743  1.336769e+08   \n",
            "474         481  72.638122  77.945811  70.939263  73.528094  9.845208e+08   \n",
            "598         605  59.203232  61.358692  57.460908  61.283271  1.261705e+08   \n",
            "\n",
            "                    timestamp  close_change  \n",
            "54   2022-11-07T23:59:59.999Z     16.623292  \n",
            "463  2021-09-16T23:59:59.999Z     14.497738  \n",
            "591  2021-05-18T23:59:59.999Z     14.017812  \n",
            "471  2021-09-15T23:59:59.999Z      9.506381  \n",
            "468  2021-09-19T23:59:59.999Z      8.315742  \n",
            "477  2021-09-09T23:59:59.999Z      6.929033  \n",
            "345  2022-01-20T23:59:59.999Z      6.770635  \n",
            "587  2021-05-22T23:59:59.999Z      6.228516  \n",
            "474  2021-09-12T23:59:59.999Z      5.201864  \n",
            "598  2021-05-11T23:59:59.999Z      5.154806  \n"
          ]
        }
      ]
    },
    {
      "cell_type": "markdown",
      "source": [
        "## 6. Calculate the % Rate of Change (2 pts)"
      ],
      "metadata": {
        "id": "Y3AmR3eDxgfb"
      }
    },
    {
      "cell_type": "markdown",
      "source": [
        "Next, create a new column named `[\"rate_of_change\"]` based on `[\"close_change\"]`.\n",
        "\n",
        "Use the Pandas Review notebook for reference. Again, this is an easy operation in Pandas and does not require a for-loop."
      ],
      "metadata": {
        "id": "XK3yweENxjdn"
      }
    },
    {
      "cell_type": "code",
      "source": [
        "cleaned_df = cleaned_df.assign(rate_of_change=cleaned_df['close_change'] / cleaned_df['close'])\n",
        "print(cleaned_df.head())"
      ],
      "metadata": {
        "id": "FqL5yyvi6w7r",
        "colab": {
          "base_uri": "https://localhost:8080/"
        },
        "outputId": "2f96e987-c187-486c-baba-35fc256fcc74"
      },
      "execution_count": 39,
      "outputs": [
        {
          "output_type": "stream",
          "name": "stdout",
          "text": [
            "   Unnamed: 0      open      high       low     close      volume  \\\n",
            "0           0  0.838968  0.853502  0.835226  0.842688  3001502.06   \n",
            "1           1  0.860193  0.864752  0.826643  0.839048  3608615.07   \n",
            "2           2  0.885723  0.887118  0.843029  0.860231  3766979.57   \n",
            "3           3  0.921162  0.925702  0.869842  0.886091  4192949.85   \n",
            "4           4  0.931138  0.955402  0.916414  0.923668  4574953.05   \n",
            "\n",
            "                  timestamp  close_change  rate_of_change  \n",
            "0  2022-12-31T23:59:59.999Z           NaN             NaN  \n",
            "1  2022-12-30T23:59:59.999Z     -0.003640       -0.004339  \n",
            "2  2022-12-29T23:59:59.999Z      0.021183        0.024625  \n",
            "3  2022-12-28T23:59:59.999Z      0.025860        0.029184  \n",
            "4  2022-12-27T23:59:59.999Z      0.037577        0.040682  \n"
          ]
        }
      ]
    },
    {
      "cell_type": "markdown",
      "source": [
        "## 7. Identify Greatest % Change Days (1 pt)"
      ],
      "metadata": {
        "id": "2ifRW8qU3OOB"
      }
    },
    {
      "cell_type": "markdown",
      "source": [
        "Based on the rate change column calculated above, identify the top 5 days of greatest rate changes, whether positive or negative.\n",
        "\n",
        "Display your results in a table showing both the rate of change and their dates."
      ],
      "metadata": {
        "id": "ISZf2C1j3bAA"
      }
    },
    {
      "cell_type": "code",
      "source": [
        "top_5_positive = cleaned_df.nlargest(5, 'rate_of_change')\n",
        "top_5_negative = cleaned_df.nsmallest(5, 'rate_of_change')\n",
        "top_5= pd.concat([top_5_positive, top_5_negative])\n",
        "print(top_5)"
      ],
      "metadata": {
        "id": "ehwdoTAxyu4e",
        "outputId": "13c5b1d1-52ec-42d1-f48f-bd45986cadf7",
        "colab": {
          "base_uri": "https://localhost:8080/"
        }
      },
      "execution_count": 62,
      "outputs": [
        {
          "output_type": "stream",
          "name": "stdout",
          "text": [
            "     Unnamed: 0       open       high        low      close        volume  \\\n",
            "54           56  22.263740  23.151038  21.923954  22.142196  7.211689e+08   \n",
            "53           55  22.137788  22.137788   3.146795   5.518904  3.346184e+09   \n",
            "49           51   2.592339   2.609819   1.900632   2.088901  3.613720e+08   \n",
            "591         598  50.424719  54.028511  50.015720  50.955200  1.552346e+08   \n",
            "51           53   2.286410   4.202124   2.142760   3.516938  9.893206e+08   \n",
            "52           54   5.522477   6.246743   2.056713   2.300628  1.320746e+09   \n",
            "486         493  46.285808  52.230562  45.142659  48.504721  5.694080e+08   \n",
            "680         693  23.238361  26.652758  23.238361  26.241206  9.198105e+07   \n",
            "23           25   1.391181   1.417119   1.334437   1.363871  6.249266e+06   \n",
            "47           49   1.490110   1.739288   1.251136   1.474764  1.717626e+08   \n",
            "\n",
            "                    timestamp  close_change  rate_of_change  \n",
            "54   2022-11-07T23:59:59.999Z     16.623292        0.750752  \n",
            "53   2022-11-08T23:59:59.999Z      3.218276        0.583137  \n",
            "49   2022-11-12T23:59:59.999Z      0.599637        0.287059  \n",
            "591  2021-05-18T23:59:59.999Z     14.017812        0.275101  \n",
            "51   2022-11-10T23:59:59.999Z      0.926516        0.263444  \n",
            "52   2022-11-09T23:59:59.999Z     -1.216311       -0.528686  \n",
            "486  2021-08-31T23:59:59.999Z    -16.677156       -0.343825  \n",
            "680  2021-02-18T23:59:59.999Z     -8.335900       -0.317665  \n",
            "23   2022-12-08T23:59:59.999Z     -0.336669       -0.246848  \n",
            "47   2022-11-14T23:59:59.999Z     -0.361149       -0.244886  \n"
          ]
        }
      ]
    },
    {
      "cell_type": "markdown",
      "source": [
        "## 8. Plot the Data (2 pts)"
      ],
      "metadata": {
        "id": "2B9dxJbno0s0"
      }
    },
    {
      "cell_type": "markdown",
      "source": [
        "Finally, create two separate plots of the data -- one for the daily closing price and one for the daily gains/losses. These can be histograms or line plots."
      ],
      "metadata": {
        "id": "LwMrL6-AplCH"
      }
    },
    {
      "cell_type": "code",
      "source": [
        "import matplotlib.pyplot as plt\n",
        "cleaned_df.plot(y='close',kind='line', figsize=(10, 5),title='Daily Closing Price for FTX')\n",
        "plt.xlabel('Date')\n",
        "plt.ylabel('Closing Price')\n",
        "plt.show()\n",
        "\n",
        "cleaned_df['close_change'].plot(kind='hist', bins=30, figsize=(10, 5), color='pink',\n",
        "                                    title='Daily Gains/Losses for FTX')\n",
        "plt.xlabel('Gains/Losses')\n",
        "plt.ylabel('Frequency')\n",
        "plt.show()"
      ],
      "metadata": {
        "id": "R0vq1cLRB0Kl",
        "colab": {
          "base_uri": "https://localhost:8080/",
          "height": 957
        },
        "outputId": "6ab8fbf0-e3bf-45e6-f654-de23ee2ab636"
      },
      "execution_count": 54,
      "outputs": [
        {
          "output_type": "display_data",
          "data": {
            "text/plain": [
              "<Figure size 1000x500 with 1 Axes>"
            ],
            "image/png": "[encoded data removed]"
          },
          "metadata": {}
        },
        {
          "output_type": "display_data",
          "data": {
            "text/plain": [
              "<Figure size 1000x500 with 1 Axes>"
            ],
            "image/png": "[encoded data removed]"
          },
          "metadata": {}
        }
      ]
    },
    {
      "cell_type": "markdown",
      "source": [
        "## BONUS! (1 pt)"
      ],
      "metadata": {
        "id": "5veEUQsk5qYq"
      }
    },
    {
      "cell_type": "markdown",
      "source": [
        "Combine the two plots from #8 above into a single plot, displaying both together. Your plot should have two Y-axis scales, should differentiate the two values by color, and should include a legend."
      ],
      "metadata": {
        "id": "xRT2iFAI5s4S"
      }
    },
    {
      "cell_type": "code",
      "source": [
        "fig, ax1 = plt.subplots(figsize=(10, 5))\n",
        "cleaned_df.plot(y='close',ax=ax1, color='red', label='Closing Price')\n",
        "ax1.set_xlabel('Date')\n",
        "ax1.set_ylabel('Closing Price', color='red')\n",
        "ax1.tick_params(axis='y', labelcolor='red')\n",
        "\n",
        "ax2 = ax1.twinx()\n",
        "cleaned_df['close_change'].plot(kind='hist', bins=30, ax=ax2, color='blue',\n",
        "                                    label='Gains/Losses')\n",
        "ax2.set_ylabel('Frequency of Gains/Losses', color='blue')\n",
        "ax2.tick_params(axis='y', labelcolor='blue')\n",
        "plt.title('Daily Closing Price and Gains/Losses for FTX')\n",
        "plt.show()"
      ],
      "metadata": {
        "id": "epypcCLc6QxL",
        "colab": {
          "base_uri": "https://localhost:8080/",
          "height": 487
        },
        "outputId": "844eac9a-64c3-4b7a-dda8-016124f5e177"
      },
      "execution_count": 55,
      "outputs": [
        {
          "output_type": "display_data",
          "data": {
            "text/plain": [
              "<Figure size 1000x500 with 2 Axes>"
            ],
            "image/png": "[encoded data removed]"
          },
          "metadata": {}
        }
      ]
    }
  ]
}